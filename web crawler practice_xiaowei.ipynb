{
 "cells": [
  {
   "cell_type": "code",
   "execution_count": 1,
   "id": "ce9b563c",
   "metadata": {},
   "outputs": [],
   "source": [
    "import requests\n",
    "from bs4 import BeautifulSoup\n",
    "from selenium import webdriver\n",
    "from selenium.webdriver.chrome.service import Service\n",
    "from selenium.webdriver.common.keys import Keys\n",
    "import time\n",
    "import pandas as pd\n",
    "import re"
   ]
  },
  {
   "cell_type": "code",
   "execution_count": 2,
   "id": "c0bdb201",
   "metadata": {},
   "outputs": [
    {
     "name": "stdout",
     "output_type": "stream",
     "text": [
      "9\n",
      "9\n",
      "9\n",
      "9\n",
      "9\n",
      "9\n",
      "9\n",
      "9\n",
      "9\n",
      "[{'pricing': '$999,000', 'size': '3 bds2 ba1,361 sqft - House for sale', 'address': '352 95th St, Brooklyn, NY 11209', 'link': 'https://www.zillow.com/homedetails/352-95th-St-Brooklyn-NY-11209/30701739_zpid/'}, {'pricing': '$579,900', 'size': '3 bds2 ba1,540 sqft - House for sale', 'address': '4310 Clarendon Rd, Brooklyn, NY 11203', 'link': 'https://www.zillow.com/homedetails/4310-Clarendon-Rd-Brooklyn-NY-11203/30661963_zpid/'}, {'pricing': '$848,888', 'size': '3 bds3 ba1,827 sqft - House for sale', 'address': '1717 E 34th St, Brooklyn, NY 11234', 'link': 'https://www.zillow.com/homedetails/1717-E-34th-St-Brooklyn-NY-11234/30756916_zpid/'}, {'pricing': '$849,000', 'size': '3 bds1 ba1,330 sqft - House for sale', 'address': '313 88th St, Brooklyn, NY 11209', 'link': 'https://www.zillow.com/homedetails/313-88th-St-Brooklyn-NY-11209/30700031_zpid/'}, {'pricing': '$499,900', 'size': '3 bds2 ba1,229 sqft - House for sale', 'address': '433 E 32nd St, Brooklyn, NY 11226', 'link': 'https://www.zillow.com/homedetails/433-E-32nd-St-Brooklyn-NY-11226/30662245_zpid/'}, {'pricing': '$565,000', 'size': '3 bds2 ba1,186 sqft - Condo for sale', 'address': '400 Cozine Ave APT 7D, Brooklyn, NY 11207', 'link': 'https://www.zillow.com/homedetails/400-Cozine-Ave-APT-7D-Brooklyn-NY-11207/30649263_zpid/'}, {'pricing': '$1,199,900', 'size': '4 bds4 ba2,400 sqft - House for sale', 'address': '2411 E 69th St, Brooklyn, NY 11234', 'link': 'https://www.zillow.com/homedetails/2411-E-69th-St-Brooklyn-NY-11234/2083200526_zpid/'}, {'pricing': '$900,000', 'size': '4 bds3 ba1,938 sqft - Multi-family home for sale', 'address': '1408 E 38th Street, Brooklyn, NY 11234', 'link': 'https://www.zillow.com/homedetails/1408-E-38th-St-Brooklyn-NY-11234/30755301_zpid/'}, {'pricing': '$599,000', 'size': '5 bds2 ba1,248 sqft - Foreclosure', 'address': '2047 E 55th St, Brooklyn, NY 11234', 'link': 'https://www.zillow.com/homedetails/2047-E-55th-St-Brooklyn-NY-11234/30787042_zpid/'}, {'pricing': '$175,000', 'size': '2 bds1 ba950 sqft - Condo for sale', 'address': '2285 Bragg St APT 1E, Homecrest, NY 11229', 'link': 'https://www.zillow.com/homedetails/2285-Bragg-St-APT-1E-Homecrest-NY-11229/244992604_zpid/'}, {'pricing': '$399,000', 'size': '1 bd1 ba-- sqft - Condo for sale', 'address': '153 Joralemon St #4F, Brooklyn, NY 11201', 'link': 'https://www.zillow.com/homedetails/153-Joralemon-St-4F-Brooklyn-NY-11201/2062931058_zpid/'}, {'pricing': '$600,000', 'size': '4 bds2 ba1,600 sqft - Condo for sale', 'address': '3130 Brighton 6th St #K5, Brooklyn, NY 11235', 'link': 'https://www.zillow.com/homedetails/3130-Brighton-6th-St-K5-Brooklyn-NY-11235/2060412585_zpid/'}, {'pricing': '$1,650,000', 'size': '5 bds3 ba2,820 sqft - Townhouse for sale', 'address': '465 54th St, Brooklyn, NY 11220', 'link': 'https://www.zillow.com/homedetails/465-54th-St-Brooklyn-NY-11220/30577885_zpid/'}, {'pricing': '$1,249,000', 'size': '4 bds4 ba2,147 sqft - Multi-family home for sale', 'address': '349 Monroe St, Brooklyn, NY 11221', 'link': 'https://www.zillow.com/homedetails/349-Monroe-St-Brooklyn-NY-11221/30609210_zpid/'}, {'pricing': '$850,000', 'size': '3 bds2 ba1,100 sqft - Condo for sale', 'address': '105 Ashland Pl APT 5D, Brooklyn, NY 11201', 'link': 'https://www.zillow.com/homedetails/105-Ashland-Pl-APT-5D-Brooklyn-NY-11201/245031629_zpid/'}, {'pricing': '$349,000', 'size': '2 bds1 ba-- sqft - Condo for sale', 'address': '72 Richardson St #10, Brooklyn, NY 11211', 'link': 'https://www.zillow.com/homedetails/72-Richardson-St-10-Brooklyn-NY-11211/2079224663_zpid/'}, {'pricing': '$4,800,000', 'size': '6 bds5 ba3,958 sqft - House for sale', 'address': '1151 83rd St, Brooklyn, NY 11228', 'link': 'https://www.zillow.com/homedetails/1151-83rd-St-Brooklyn-NY-11228/30709746_zpid/'}, {'pricing': '$999,000', 'size': '2 bds2 ba1,081 sqft - Condo for sale', 'address': '401 95th St #2A, Brooklyn, NY 11209', 'link': 'https://www.zillow.com/homedetails/401-95th-St-2A-Brooklyn-NY-11209/320254782_zpid/'}, {'pricing': '$12,000,000', 'size': '6 bds6 ba6,732 sqft - Townhouse for sale', 'address': '145 Columbia Hts, Brooklyn, NY 11201', 'link': 'https://www.zillow.com/homedetails/145-Columbia-Hts-Brooklyn-NY-11201/2068444410_zpid/'}, {'pricing': '$1,060,000', 'size': '5 bds2 ba1,580 sqft - House for sale', 'address': '549 68th St, Brooklyn, NY 11220', 'link': 'https://www.zillow.com/homedetails/549-68th-St-Brooklyn-NY-11220/30691782_zpid/'}, {'pricing': '$1,245,000', 'size': '8 bds3 ba-- sqft - Multi-family home for sale', 'address': '304 Sheridan Ave #W, Brooklyn, NY 11208', 'link': 'https://www.zillow.com/homedetails/304-Sheridan-Ave-W-Brooklyn-NY-11208/2060431928_zpid/'}, {'pricing': '$848,888', 'size': '3 bds3 ba1,827 sqft - House for sale', 'address': '1717 E 34th St, Brooklyn, NY 11234', 'link': 'https://www.zillow.com/homedetails/1717-E-34th-St-Brooklyn-NY-11234/30756916_zpid/'}, {'pricing': '$650,000', 'size': '4 bds3 ba1,560 sqft - Multi-family home for sale', 'address': '691 Lenox Rd, Brooklyn, NY 11203', 'link': 'https://www.zillow.com/homedetails/691-Lenox-Rd-Brooklyn-NY-11203/30658194_zpid/'}, {'pricing': '$500,000', 'size': '5 bds3 ba2,880 sqft - Multi-family home for sale', 'address': '361 Vernon Ave, Brooklyn, NY 11206', 'link': 'https://www.zillow.com/homedetails/361-Vernon-Ave-Brooklyn-NY-11206/30601845_zpid/'}, {'pricing': '$1,695,000', 'size': '4 bds4 ba4,000 sqft - House for sale', 'address': '1133 E 22nd St, Brooklyn, NY 11210', 'link': 'https://www.zillow.com/homedetails/1133-E-22nd-St-Brooklyn-NY-11210/30752159_zpid/'}, {'pricing': '$1,795,000', 'size': '4 bds5 ba3,000 sqft - House for sale', 'address': '1576 E 27th St, Brooklyn, NY 11229', 'link': 'https://www.zillow.com/homedetails/1576-E-27th-St-Brooklyn-NY-11229/30726777_zpid/'}, {'pricing': '$8,900,000', 'size': '6 bds6 ba7,500 sqft - Townhouse for sale', 'address': '21 Prospect Park W, Brooklyn, NY 11215', 'link': 'https://www.zillow.com/homedetails/21-Prospect-Park-W-Brooklyn-NY-11215/2096582981_zpid/'}, {'pricing': '$750,000', 'size': '4 bds4 ba1,900 sqft - House for sale', 'address': '411 Crescent St, Brooklyn, NY 11208', 'link': 'https://www.zillow.com/homedetails/411-Crescent-St-Brooklyn-NY-11208/30644025_zpid/'}, {'pricing': '$275,000', 'size': '2 bds1 ba1,220 sqft - Condo for sale', 'address': '2761 Bath Ave #2, Brooklyn, NY 11214', 'link': 'https://www.zillow.com/homedetails/2761-Bath-Ave-2-Brooklyn-NY-11214/2060685993_zpid/'}, {'pricing': '$239,000', 'size': '3 bds1 ba-- sqft - House for sale', 'address': '2811 W 32nd Street, Coney Island, NY 11224', 'link': 'https://www.zillow.com/homedetails/2811-W-32nd-St-Brooklyn-NY-11224/30733096_zpid/'}, {'pricing': '$850,000', 'size': '2 bds2 ba1,100 sqft - Condo for sale', 'address': '100 Remsen St APT 2A, Brooklyn, NY 11201', 'link': 'https://www.zillow.com/homedetails/100-Remsen-St-APT-2A-Brooklyn-NY-11201/245016155_zpid/'}, {'pricing': '$1,650,000', 'size': '3 bds2 ba1,147 sqft - Condo for sale', 'address': '250 S 2nd St APT 4B, Brooklyn, NY 11211', 'link': 'https://www.zillow.com/homedetails/250-S-2nd-St-APT-4B-Brooklyn-NY-11211/63054716_zpid/'}, {'pricing': '$600,000', 'size': '4 bds2 ba1,600 sqft - Condo for sale', 'address': '3130 Brighton 6th St #K5, Brooklyn, NY 11235', 'link': 'https://www.zillow.com/homedetails/3130-Brighton-6th-St-K5-Brooklyn-NY-11235/2060412585_zpid/'}, {'pricing': '$985,000', 'size': '3 bds4 ba1,400 sqft - Townhouse for sale', 'address': '1138 E 35th St, Brooklyn, NY 11210', 'link': 'https://www.zillow.com/homedetails/1138-E-35th-St-Brooklyn-NY-11210/30752811_zpid/'}, {'pricing': '$225,000', 'size': '3 bds1 ba700 sqft - Condo for sale', 'address': '17 Pennsylvania Ave #16, Brooklyn, NY 11207', 'link': 'https://www.zillow.com/homedetails/17-Pennsylvania-Ave-16-Brooklyn-NY-11207/2075635926_zpid/'}, {'pricing': '$649,000', 'size': '6 bds5 ba-- sqft - Multi-family home for sale', 'address': '26 Radde Pl, Ocean Hill, NY 11233', 'link': 'https://www.zillow.com/homedetails/26-Radde-Pl-Brooklyn-NY-11233/79718896_zpid/'}, {'pricing': '$1,449,000', 'size': '7 bds3 ba2,970 sqft - Multi-family home for sale', 'address': '431 73rd St, Brooklyn, NY 11209', 'link': 'https://www.zillow.com/homedetails/431-73rd-St-Brooklyn-NY-11209/142955085_zpid/'}, {'pricing': '$850,000', 'size': '2 bds2 ba1,320 sqft - Condo for sale', 'address': '1273 Dekalb Ave #1, Brooklyn, NY 11221', 'link': 'https://www.zillow.com/homedetails/1273-Dekalb-Ave-1-Brooklyn-NY-11221/300076726_zpid/'}, {'pricing': '$349,000', 'size': '2 bds1 ba900 sqft - Condo for sale', 'address': '2680 E 19th Est #1N, Brooklyn, NY 11235', 'link': 'https://www.zillow.com/homedetails/2680-E-19th-Est-1N-Brooklyn-NY-11235/2060423670_zpid/'}, {'pricing': '$1,060,000', 'size': '5 bds2 ba1,580 sqft - House for sale', 'address': '549 68th St, Brooklyn, NY 11220', 'link': 'https://www.zillow.com/homedetails/549-68th-St-Brooklyn-NY-11220/30691782_zpid/'}, {'pricing': '$1,079,000', 'size': '2 bds3 ba1,938 sqft - Multi-family home for sale', 'address': '7023 Ridge Crest Ter, Brooklyn, NY 11209', 'link': 'https://www.zillow.com/homedetails/7023-Ridge-Crest-Ter-Brooklyn-NY-11209/30693023_zpid/'}, {'pricing': '$375,000', 'size': '2 bds1 ba770 sqft - Condo for sale', 'address': '400 Cozine Ave APT 8L, Brooklyn, NY 11207', 'link': 'https://www.zillow.com/homedetails/400-Cozine-Ave-APT-8L-Brooklyn-NY-11207/30649327_zpid/'}, {'pricing': '$2,499,000', 'size': '5 bds5 ba2,592 sqft - House for sale', 'address': '540 E 23rd St, Brooklyn, NY 11210', 'link': 'https://www.zillow.com/homedetails/540-E-23rd-St-Brooklyn-NY-11210/142926331_zpid/'}, {'pricing': '$1,850,000', 'size': '3 bds3 ba2,565 sqft - House for sale', 'address': '2809 Avenue S, Brooklyn, NY 11229', 'link': 'https://www.zillow.com/homedetails/2809-Avenue-S-Brooklyn-NY-11229/30728892_zpid/'}, {'pricing': '$879,000', 'size': '2 bds2 ba-- sqft - Condo for sale', 'address': '503 Clinton St #2, Brooklyn, NY 11231', 'link': 'https://www.zillow.com/homedetails/503-Clinton-St-2-Brooklyn-NY-11231/82584263_zpid/'}, {'pricing': '$699,000', 'size': '6 bds2 ba3,000 sqft - Multi-family home for sale', 'address': '534 Bradford St #2FAM, Brooklyn, NY 11207', 'link': 'https://www.zillow.com/homedetails/534-Bradford-St-2FAM-Brooklyn-NY-11207/2060409240_zpid/'}, {'pricing': '$435,000', 'size': '3 bds1 ba1,350 sqft - Condo for sale', 'address': '7002 Ridge Blvd APT D11, Brooklyn, NY 11209', 'link': 'https://www.zillow.com/homedetails/7002-Ridge-Blvd-APT-D11-Brooklyn-NY-11209/245032747_zpid/'}, {'pricing': '$698,000', 'size': '2 bds2 ba-- sqft - Condo for sale', 'address': '69 Bay 20 St #2B, Brooklyn, NY 11214', 'link': 'https://www.zillow.com/homedetails/69-Bay-20-St-2B-Brooklyn-NY-11214/2060429428_zpid/'}, {'pricing': '$1,495,000', 'size': '4 bds3 ba2,250 sqft - House for sale', 'address': '576 76th St, Brooklyn, NY 11209', 'link': 'https://www.zillow.com/homedetails/576-76th-St-Brooklyn-NY-11209/30695959_zpid/'}, {'pricing': '$697,500', 'size': '3 bds2 ba1,215 sqft - House for sale', 'address': '1231 E 88th St, Brooklyn, NY 11236', 'link': 'https://www.zillow.com/homedetails/1231-E-88th-St-Brooklyn-NY-11236/30771437_zpid/'}, {'pricing': '$9,495,000', 'size': '4 bds4 ba4,099 sqft - Condo for sale', 'address': '1 Clinton St #37A, Brooklyn, NY 11201', 'link': 'https://www.zillow.com/homedetails/1-Clinton-St-37A-Brooklyn-NY-11201/2071352455_zpid/'}, {'pricing': '$3,900,000', 'size': '3 bds4 ba1,160 sqft - Townhouse for sale', 'address': '72 Verandah Pl, Brooklyn, NY 11201', 'link': 'https://www.zillow.com/homedetails/72-Verandah-Pl-Brooklyn-NY-11201/30568500_zpid/'}, {'pricing': '$1,695,000', 'size': '8 bds10 ba7,500 sqft - Multi-family home for sale', 'address': '502 Clinton Ave APT 1, Brooklyn, NY 11238', 'link': 'https://www.zillow.com/homedetails/502-Clinton-Ave-APT-1-Brooklyn-NY-11238/2077101287_zpid/'}, {'pricing': '$11,850,000', 'size': '5 bds5 ba6,000 sqft - Townhouse for sale', 'address': '104 Willow St, Brooklyn, NY 11201', 'link': 'https://www.zillow.com/homedetails/104-Willow-St-Brooklyn-NY-11201/30567435_zpid/'}, {'pricing': '$619,000', 'size': '3 bds2 ba1,597 sqft - House for sale', 'address': '1172 E 46th St, Brooklyn, NY 11234', 'link': 'https://www.zillow.com/homedetails/1172-E-46th-St-Brooklyn-NY-11234/30758891_zpid/'}, {'pricing': '$1,150,000', 'size': '5 bds3 ba1,980 sqft - Multi-family home for sale', 'address': '8844 18th Ave, Brooklyn, NY 11214', 'link': 'https://www.zillow.com/homedetails/8844-18th-Ave-Brooklyn-NY-11214/30715013_zpid/'}, {'pricing': '$350,000', 'size': '2 bds2 ba1,890 sqft - House for sale', 'address': '5556 Whitty Lane, East Flatbush, NY 11203', 'link': 'https://www.zillow.com/homedetails/5556-Whitty-Ln-Brooklyn-NY-11203/30766542_zpid/'}, {'pricing': '$799,000', 'size': '4 bds2 ba1,440 sqft - Multi-family home for sale', 'address': '3923 Foster Avenue, Brooklyn, NY 11203', 'link': 'https://www.zillow.com/homedetails/3923-Foster-Ave-Brooklyn-NY-11203/30662528_zpid/'}, {'pricing': '$850,000', 'size': '4 bds3 ba1,405 sqft - Condo for sale', 'address': '2356 61st St APT 1C, Brooklyn, NY 11204', 'link': 'https://www.zillow.com/homedetails/2356-61st-St-APT-1C-Brooklyn-NY-11204/62648988_zpid/'}, {'pricing': '$1,850,000', 'size': '7 bds5 ba3,026 sqft - Multi-family home for sale', 'address': '1834 Bay Ridge Avenue, Bensonhurst, NY 11204', 'link': 'https://www.zillow.com/homedetails/1834-Bay-Ridge-Ave-Brooklyn-NY-11204/30702861_zpid/'}, {'pricing': '$11,500,000', 'size': '6 bds6 ba6,094 sqft - Multi-family home for sale', 'address': '20 Remsen St #4, Brooklyn, NY 11201', 'link': 'https://www.zillow.com/homedetails/20-Remsen-St-4-Brooklyn-NY-11201/30567638_zpid/'}, {'pricing': '$850,000', 'size': '7 bds6 ba3,321 sqft - Multi-family home for sale', 'address': '2258 Linden Blvd, Brooklyn, NY 11208', 'link': 'https://www.zillow.com/homedetails/2258-Linden-Blvd-Brooklyn-NY-11208/2135966851_zpid/'}, {'pricing': '$2,759,000', 'size': '6 bds6 ba2,104 sqft - House for sale', 'address': '163 Whitman Dr, Brooklyn, NY 11234', 'link': 'https://www.zillow.com/homedetails/163-Whitman-Dr-Brooklyn-NY-11234/2098748680_zpid/'}, {'pricing': '$990,000', 'size': '11 bds9 ba3,750 sqft - Multi-family home for sale', 'address': '269 Grafton Street, Brownsville, NY 11212', 'link': 'https://www.zillow.com/homedetails/269-Grafton-St-Brooklyn-NY-11212/2088911460_zpid/'}, {'pricing': '$1,999,999', 'size': '4 bds6 ba4,096 sqft - House for sale', 'address': '4202 Avenue T, Brooklyn, NY 11234', 'link': 'https://www.zillow.com/homedetails/4202-Avenue-T-Brooklyn-NY-11234/30786828_zpid/'}, {'pricing': '$1,599,000', 'size': '5 bds5 ba2,500 sqft - House for sale', 'address': '1445 E 26th St, Brooklyn, NY 11210', 'link': 'https://www.zillow.com/homedetails/1445-E-26th-St-Brooklyn-NY-11210/30755642_zpid/'}, {'pricing': '$1,975,000', 'size': '4 bds2 ba1,920 sqft - House for sale', 'address': '527A 6th Ave, Brooklyn, NY 11215', 'link': 'https://www.zillow.com/homedetails/527A-6th-Ave-Brooklyn-NY-11215/30585872_zpid/'}, {'pricing': '$1,399,000', 'size': '2 bds2 ba1,555 sqft - Condo for sale', 'address': '425 14th St APT A6, Brooklyn, NY 11215', 'link': 'https://www.zillow.com/homedetails/425-14th-St-APT-A6-Brooklyn-NY-11215/79716969_zpid/'}, {'pricing': '$649,000', 'size': '3 bds2 ba1,440 sqft - Multi-family home for sale', 'address': '18 28th Ave, Brooklyn, NY 11214', 'link': 'https://www.zillow.com/homedetails/18-28th-Ave-Brooklyn-NY-11214/30731215_zpid/'}, {'pricing': '$265,000', 'size': '3 bds1 ba1,050 sqft - Condo for sale', 'address': '2209 Knapp St APT 3F, Brooklyn, NY 11229', 'link': 'https://www.zillow.com/homedetails/2209-Knapp-St-APT-3F-Brooklyn-NY-11229/244998229_zpid/'}, {'pricing': '$1,395,000', 'size': '5 bds3 ba1,734 sqft - House for sale', 'address': '119 Pioneer St, Brooklyn, NY 11231', 'link': 'https://www.zillow.com/homedetails/119-Pioneer-St-Brooklyn-NY-11231/30573340_zpid/'}, {'pricing': '$859,000', 'size': '2 bds2 ba1,041 sqft - Condo for sale', 'address': '1452 70th St APT 1A, Brooklyn, NY 11228', 'link': 'https://www.zillow.com/homedetails/1452-70th-St-APT-1A-Brooklyn-NY-11228/30703250_zpid/'}, {'pricing': '$1,200,000', 'size': '2 bds2 ba1,129 sqft - Condo for sale', 'address': '103 Meserole St APT 1B, Brooklyn, NY 11206', 'link': 'https://www.zillow.com/homedetails/103-Meserole-St-APT-1B-Brooklyn-NY-11206/115876796_zpid/'}, {'pricing': '$1,099,000', 'size': '4 bds2 ba1,732 sqft - Multi-family home for sale', 'address': '1660 65th St, Brooklyn, NY 11204', 'link': 'https://www.zillow.com/homedetails/1660-65th-St-Brooklyn-NY-11204/30681854_zpid/'}, {'pricing': '$4,575,000', 'size': '3 bds3 ba1,814 sqft - Condo for sale', 'address': '115 York St PENTHOUSE 20D, Brooklyn, NY 11201', 'link': 'https://www.zillow.com/homedetails/115-York-St-PENTHOUSE-20D-Brooklyn-NY-11201/2060656898_zpid/'}, {'pricing': '$5,900,000', 'size': '11 bds9 ba6,931 sqft - Multi-family home for sale', 'address': '315 Washington Ave, Brooklyn, NY 11205', 'link': 'https://www.zillow.com/homedetails/315-Washington-Ave-Brooklyn-NY-11205/2084924013_zpid/'}, {'pricing': '$3,500,000', 'size': '6 bds6 ba4,200 sqft - House for sale', 'address': '2340 E 65th St, Brooklyn, NY 11234', 'link': 'https://www.zillow.com/homedetails/2340-E-65th-St-Brooklyn-NY-11234/30788403_zpid/'}, {'pricing': '$2,200,000', 'size': '4 bds4 ba3,100 sqft - Multi-family home for sale', 'address': '181 Fenimore St, Brooklyn, NY 11225', 'link': 'https://www.zillow.com/homedetails/181-Fenimore-St-Brooklyn-NY-11225/30665158_zpid/'}, {'pricing': '$3,500,000', 'size': '4 bds5 ba3,432 sqft - House for sale', 'address': '7422 14th Ave, Brooklyn, NY 11228', 'link': 'https://www.zillow.com/homedetails/7422-14th-Ave-Brooklyn-NY-11228/30705444_zpid/'}, {'pricing': '$899,000', 'size': '4 bds3 ba2,000 sqft - Multi-family home for sale', 'address': '2619 E 64th St, Brooklyn, NY 11234', 'link': 'https://www.zillow.com/homedetails/2619-E-64th-St-Brooklyn-NY-11234/30788821_zpid/'}, {'pricing': '$2,600,000', 'size': '5 bds3 ba2,880 sqft - Townhouse for sale', 'address': '55 Douglass St, Brooklyn, NY 11231', 'link': 'https://www.zillow.com/homedetails/55-Douglass-St-Brooklyn-NY-11231/30571719_zpid/'}]\n"
     ]
    }
   ],
   "source": [
    "datasets=[]\n",
    "object={}\n",
    "target_url = \"https://www.zillow.com/homes/for_sale/Brooklyn,-New-York,-NY_rb/\"\n",
    "\n",
    "headers={\"User-Agent\":\"Mozilla/5.0 (Windows NT 10.0; Win64; x64) AppleWebKit/537.36 (KHTML, like Gecko) Chrome/105.0.0.0 Safari/537.36\",\"Accept-Language\":\"en-US,en;q=0.9\",\"Accept\":\"text/html,application/xhtml+xml,application/xml;q=0.9,image/avif,image/webp,image/apng,*/*;q=0.8,application/signed-exchange;v=b3;q=0.9\",\"Accept-Encoding\":\"gzip, deflate, br\",\"upgrade-insecure-requests\":\"1\"}\n",
    "\n",
    "req = requests.get(target_url, headers=headers).text\n",
    "\n",
    "for page in range(1,10):  ###change max page number here  \n",
    "    req =  requests.get(\"https://www.zillow.com/homes/for_sale/Brooklyn,-New-York,-NY_rb/{}_p/\".format(page), headers=headers).text\n",
    "    soup = BeautifulSoup(req,'html.parser')\n",
    "\n",
    "    properties = soup.find_all(\"div\",{\"class\":\"StyledPropertyCardDataWrapper-c11n-8-73-8__sc-1omp4c3-0 gXNuqr property-card-data\"})\n",
    "    print(len(properties))\n",
    "\n",
    "    for x in range(0,len(properties)):\n",
    "      try:\n",
    "        object[\"pricing\"]=properties[x].find(\"div\",{\"class\":\"StyledPropertyCardDataArea-c11n-8-73-8__sc-yipmu-0 hRqIYX\"}).text\n",
    "      except:\n",
    "        object[\"pricing\"]=None\n",
    "      try:\n",
    "        object[\"size\"]=properties[x].find(\"div\",{\"class\":\"StyledPropertyCardDataArea-c11n-8-73-8__sc-yipmu-0 ghGYOB\"}).text\n",
    "\n",
    "      except:\n",
    "        object[\"size\"]=None\n",
    "      try:\n",
    "        object[\"address\"]=properties[x].find(\"a\",{\"class\":\"StyledPropertyCardDataArea-c11n-8-73-8__sc-yipmu-0 lhIXlm property-card-link\"}).text\n",
    "      except:\n",
    "        object[\"address\"]=None\n",
    "      try:\n",
    "        object[\"link\"]=properties[x].find('a', {'href': re.compile(\"^https://\")}).get('href')\n",
    "      except:\n",
    "        object[\"link\"]=None\n",
    "      datasets.append(object)\n",
    "      object={}\n",
    "print(datasets)\n",
    "    \n",
    "df = pd.DataFrame(datasets)\n",
    "df\n",
    "df.to_csv('sample_data.csv')"
   ]
  },
  {
   "cell_type": "code",
   "execution_count": null,
   "id": "b3d2db55",
   "metadata": {},
   "outputs": [],
   "source": []
  }
 ],
 "metadata": {
  "kernelspec": {
   "display_name": "Python 3 (ipykernel)",
   "language": "python",
   "name": "python3"
  },
  "language_info": {
   "codemirror_mode": {
    "name": "ipython",
    "version": 3
   },
   "file_extension": ".py",
   "mimetype": "text/x-python",
   "name": "python",
   "nbconvert_exporter": "python",
   "pygments_lexer": "ipython3",
   "version": "3.9.12"
  },
  "toc": {
   "base_numbering": 1,
   "nav_menu": {},
   "number_sections": true,
   "sideBar": true,
   "skip_h1_title": false,
   "title_cell": "Table of Contents",
   "title_sidebar": "Contents",
   "toc_cell": false,
   "toc_position": {},
   "toc_section_display": true,
   "toc_window_display": false
  }
 },
 "nbformat": 4,
 "nbformat_minor": 5
}
